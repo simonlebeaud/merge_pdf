{
 "cells": [
  {
   "cell_type": "code",
   "execution_count": null,
   "id": "0d9a4d2f",
   "metadata": {},
   "outputs": [],
   "source": [
    "# If you need to install, type: pip install PyPDF2\n",
    "import os \n",
    "import PyPDF2\n",
    "from PyPDF2 import PdfReader , PdfWriter, PdfMerger"
   ]
  },
  {
   "cell_type": "code",
   "execution_count": null,
   "id": "a34e1562",
   "metadata": {},
   "outputs": [],
   "source": [
    "pdfFiles = [\n",
    "    'C:\\\\Users\\\\user_name\\\\Downloads\\\\recto.pdf',\n",
    "    'C:\\\\Users\\\\user_name\\\\Downloads\\\\verso.pdf',\n",
    "] # Files you want to merge, place as many as you want in order.\n",
    "\n",
    "# Sorting the files by forcing everything to lower case.\n",
    "pdfFiles.sort(key=str.lower)\n",
    "\n",
    "# Assigning the pdfWriter() function to pdfWriter.\n",
    "pdfWriter = PyPDF2.PdfWriter()"
   ]
  },
  {
   "cell_type": "code",
   "execution_count": null,
   "id": "4ae9bd49",
   "metadata": {},
   "outputs": [],
   "source": [
    "for filename in pdfFiles: # Starting a for loop.\n",
    "    pdfFileObj = open(filename, 'rb') # Opens each of the file paths in filename variable.\n",
    "    pdfReader = PyPDF2.PdfReader(pdfFileObj) # Reads each of the files in the new varaible you've created above and stores into memory.\n",
    "    for pageNum in range(0, len(pdfReader.pages)):\n",
    "        pageObj = pdfReader.pages[pageNum] # Reads only those that are in the varaible.\n",
    "        pdfWriter.add_page(pageObj) # Adds each of the PDFs it's read to a new page."
   ]
  },
  {
   "cell_type": "code",
   "execution_count": null,
   "id": "7c5dad7a",
   "metadata": {},
   "outputs": [],
   "source": [
    "# Name of the PDF file can be written here.\n",
    "pdfOutput = open('Your_new_file.pdf', 'wb') \n",
    "\n",
    "# Writing the output file using the pdfWriter function.\n",
    "pdfWriter.write(pdfOutput)\n",
    "pdfOutput.close()"
   ]
  }
 ],
 "metadata": {
  "kernelspec": {
   "display_name": "data-science",
   "language": "python",
   "name": "python3"
  },
  "language_info": {
   "codemirror_mode": {
    "name": "ipython",
    "version": 3
   },
   "file_extension": ".py",
   "mimetype": "text/x-python",
   "name": "python",
   "nbconvert_exporter": "python",
   "pygments_lexer": "ipython3",
   "version": "3.12.9"
  }
 },
 "nbformat": 4,
 "nbformat_minor": 5
}
